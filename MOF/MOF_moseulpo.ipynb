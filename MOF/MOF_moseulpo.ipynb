{
 "cells": [
  {
   "cell_type": "code",
   "execution_count": 79,
   "metadata": {},
   "outputs": [],
   "source": [
    "from selenium import webdriver\n",
    "from selenium.webdriver.common.by import By\n",
    "from selenium.webdriver.common.keys import Keys\n",
    "from selenium.webdriver.support import expected_conditions as EC\n",
    "from selenium.webdriver.support.wait import WebDriverWait\n",
    "from selenium.webdriver.support.ui import Select\n",
    "import re\n",
    "import time\n",
    "from selenium.webdriver.chrome.options import Options\n"
   ]
  },
  {
   "cell_type": "markdown",
   "metadata": {},
   "source": [
    "# Start and login\n"
   ]
  },
  {
   "cell_type": "code",
   "execution_count": 15,
   "metadata": {},
   "outputs": [],
   "source": [
    "# open the browser and visit the url\n",
    "browser = webdriver.Chrome()\n",
    "browser.get('http://www.khoa.go.kr/oceangrid/gis/category/reference/distribution.do#none')"
   ]
  },
  {
   "cell_type": "code",
   "execution_count": 16,
   "metadata": {},
   "outputs": [],
   "source": [
    "# click 로그인\n",
    "login_button =  browser.find_element(By.XPATH,\"//a[text()='로그인']\")\n",
    "login_button.click()"
   ]
  },
  {
   "cell_type": "code",
   "execution_count": 17,
   "metadata": {},
   "outputs": [],
   "source": [
    "# in the login page, input username and password and login\n",
    "id = \"\"\n",
    "pw = \"\"\n",
    "id_box = browser.find_element(By.ID,\"user_id\")\n",
    "pw_box = browser.find_element(By.ID,\"user_passwd\") \n",
    "#input the id into the id cell\n",
    "id_box.send_keys(id)\n",
    "pw_box.send_keys(pw)\n",
    "login_button_at_login_page = browser.find_element(By.ID,\"btn_login\")\n",
    "login_button_at_login_page.click()"
   ]
  },
  {
   "cell_type": "markdown",
   "metadata": {},
   "source": [
    "# basic info input"
   ]
  },
  {
   "cell_type": "code",
   "execution_count": 20,
   "metadata": {},
   "outputs": [],
   "source": [
    "# select the time interval\n",
    "start_year_button = browser.find_element(By.ID,\"searchPreYear1\")\n",
    "start_month_button = browser.find_element(By.ID,\"searchPreMonth1\")\n",
    "end_year_button = browser.find_element(By.ID,\"searchPreYear2\")\n",
    "end_month_button = browser.find_element(By.ID,\"searchPreMonth2\")"
   ]
  },
  {
   "cell_type": "code",
   "execution_count": 21,
   "metadata": {},
   "outputs": [],
   "source": [
    "# the timeframe gap between start and end should be less than 2 years\n",
    "start_year, start_month, end_year, end_month = \"2000\", \"01\", \"2001\", \"12\"\n"
   ]
  },
  {
   "cell_type": "code",
   "execution_count": 23,
   "metadata": {},
   "outputs": [],
   "source": [
    "Select(start_year_button).select_by_value(start_year)\n",
    "Select(start_month_button).select_by_value(start_month)\n",
    "Select(end_year_button).select_by_value(end_year)\n",
    "Select(end_month_button).select_by_value(end_month)\n"
   ]
  },
  {
   "cell_type": "code",
   "execution_count": 27,
   "metadata": {},
   "outputs": [],
   "source": [
    "# click to select the item you wanna download, in our current task, it is the \"수온\" item\n",
    "item_button = browser.find_element(By.ID,\"chkCodeTemp\")\n",
    "item_button.click()"
   ]
  },
  {
   "cell_type": "code",
   "execution_count": 28,
   "metadata": {},
   "outputs": [],
   "source": [
    "# input the location keyword. In our current task, it is \"모슬포\"\n",
    "keyword_box = browser.find_element(By.ID,\"searchKey\")\n",
    "keyword_box.send_keys(\"모슬포\")"
   ]
  },
  {
   "cell_type": "code",
   "execution_count": 29,
   "metadata": {},
   "outputs": [],
   "source": [
    "# click the 검색 button to show the result\n",
    "search_button = browser.find_element(By.XPATH,'//*[@id=\"content\"]/div/div[3]/div[1]/p/a/img')\n",
    "search_button.click()"
   ]
  },
  {
   "cell_type": "markdown",
   "metadata": {},
   "source": [
    "# Download"
   ]
  },
  {
   "cell_type": "code",
   "execution_count": 32,
   "metadata": {},
   "outputs": [],
   "source": [
    "# click the 번호 button to select all items in the current page\n",
    "beonho_button = browser.find_element(By.ID,'checkboxAll')\n",
    "beonho_button.click()"
   ]
  },
  {
   "cell_type": "code",
   "execution_count": 33,
   "metadata": {},
   "outputs": [],
   "source": [
    "# click the 다운로드 button to download the data\n",
    "download_button = browser.find_element(By.NAME,'zipdown')\n",
    "download_button.click()"
   ]
  },
  {
   "cell_type": "code",
   "execution_count": 37,
   "metadata": {},
   "outputs": [
    {
     "data": {
      "text/plain": [
       "6"
      ]
     },
     "execution_count": 37,
     "metadata": {},
     "output_type": "execute_result"
    }
   ],
   "source": [
    "# get the page's html\n",
    "html = browser.page_source\n",
    "pattern = r'a href=\"javascript:goPage(.*?);\">.*?</a>'\n",
    "matches = re.findall(pattern, html)\n",
    "len(matches)\n",
    "# len(matches) - 3 = amount of pages in current search result\n",
    "# len(matches) - 4 = how many times we should click the next page button\n"
   ]
  },
  {
   "cell_type": "code",
   "execution_count": 40,
   "metadata": {},
   "outputs": [],
   "source": [
    "# click the next page button\n",
    "next_page_button = browser.find_element(By.CSS_SELECTOR,'img[alt=\"다음페이지\"]')\n",
    "next_page_button.click()"
   ]
  },
  {
   "cell_type": "markdown",
   "metadata": {},
   "source": [
    "# Now we have components, let's combine them\n",
    "\n",
    "There are 2 iterations for download all data: 1) In the time interval selection, and 2) In the downloadpage"
   ]
  },
  {
   "cell_type": "code",
   "execution_count": 88,
   "metadata": {},
   "outputs": [],
   "source": [
    "\n",
    "def download_data(start_year_int = 2010, start_month = '01', end_year_int = 2011, end_month = '12', location_keyword = \"모슬포\", final_year = 2024):\n",
    "    # Set Chrome options to keep the browser window open\n",
    "    chrome_options = Options()\n",
    "    chrome_options.add_experimental_option(\"detach\", True)\n",
    "    browser = webdriver.Chrome(options=chrome_options)\n",
    "    browser.get('http://www.khoa.go.kr/oceangrid/gis/category/reference/distribution.do#none')\n",
    "\n",
    "    # click 로그인\n",
    "    login_button =  browser.find_element(By.XPATH,\"//a[text()='로그인']\")\n",
    "    login_button.click()\n",
    "    time.sleep(2)\n",
    "    id = \"\"\n",
    "    time.sleep(2)\n",
    "\n",
    "    pw = \"\"\n",
    "    id_box = browser.find_element(By.ID,\"user_id\")\n",
    "    pw_box = browser.find_element(By.ID,\"user_passwd\")  \n",
    "    #input the id into the id cell\n",
    "    id_box.send_keys(id)\n",
    "    time.sleep(2)\n",
    "    pw_box.send_keys(pw)\n",
    "    time.sleep(2)\n",
    "    login_button_at_login_page = browser.find_element(By.ID,\"btn_login\")\n",
    "    login_button_at_login_page.click()\n",
    "    time.sleep(2)\n",
    "\n",
    "    # input the location keyword. In our current task, it is \"모슬포\"\n",
    "    keyword_box = browser.find_element(By.ID,\"searchKey\")\n",
    "    keyword_box.send_keys(location_keyword)\n",
    "\n",
    "    \n",
    "    #click to select the item you wanna download, in our current task, it is the \"수온\" item\n",
    "    item_button = browser.find_element(By.ID,\"chkCodeTemp\")\n",
    "    item_button.click()\n",
    "    # select the time interval\n",
    "    \n",
    "    while start_year_int < final_year + 1 :\n",
    "        start_year_button = browser.find_element(By.ID,\"searchPreYear1\")\n",
    "        start_month_button = browser.find_element(By.ID,\"searchPreMonth1\")\n",
    "        end_year_button = browser.find_element(By.ID,\"searchPreYear2\")\n",
    "        end_month_button = browser.find_element(By.ID,\"searchPreMonth2\")\n",
    "        # the timeframe gap between start and end should be less than 2 years\n",
    "        start_year = str(start_year_int)\n",
    "        end_year = str(end_year_int)\n",
    "        Select(start_year_button).select_by_value(start_year)\n",
    "        Select(start_month_button).select_by_value(start_month)\n",
    "        Select(end_year_button).select_by_value(end_year)\n",
    "        Select(end_month_button).select_by_value(end_month)\n",
    "\n",
    "\n",
    "        # click the 검색 button to show the result\n",
    "        search_button = browser.find_element(By.XPATH,'//*[@id=\"content\"]/div/div[3]/div[1]/p/a/img')\n",
    "        search_button.click()\n",
    "\n",
    "        start_year_int, end_year_int = start_year_int + 2, end_year_int + 2\n",
    "\n",
    "        time.sleep(2)\n",
    "        try:\n",
    "            popup_button = browser.find_element(By.CLASS_NAME,'ui-dialog-buttonset')\n",
    "            popup_button.click()\n",
    "        except:\n",
    "            pass\n",
    "\n",
    "\n",
    "        # get the page's html\n",
    "        html = browser.page_source\n",
    "        pattern = r'a href=\"javascript:goPage(.*?);\">.*?</a>'\n",
    "        matches = re.findall(pattern, html)\n",
    "        \n",
    "        # len(matches) - 3 = amount of pages in current search result\n",
    "        # len(matches) - 4 = how many times we should click the next page button\n",
    "        next_page_button_click_times = len(matches) - 4\n",
    "\n",
    "        # click the 번호 button to select all items in the current page\n",
    "        beonho_button = browser.find_element(By.ID,'checkboxAll')\n",
    "        beonho_button.click()\n",
    "\n",
    "        # click the 다운로드 button to download the data\n",
    "        download_button = browser.find_element(By.NAME,'zipdown')\n",
    "        download_button.click()\n",
    "        time.sleep(2)\n",
    "        \n",
    "        for i in range(next_page_button_click_times):\n",
    "            # click the next page button\n",
    "            next_page_button = browser.find_element(By.CSS_SELECTOR,'img[alt=\"다음페이지\"]')\n",
    "            next_page_button.click()\n",
    "            time.sleep(5)\n",
    "\n",
    "            beonho_button = browser.find_element(By.ID,'checkboxAll')\n",
    "            beonho_button.click()\n",
    "\n",
    "            # click the 다운로드 button to download the data\n",
    "            download_button = browser.find_element(By.NAME,'zipdown')\n",
    "            download_button.click()\n",
    "            time.sleep(2)\n",
    "            try:\n",
    "                popup_button = browser.find_element(By.CLASS_NAME,'ui-dialog-buttonset')\n",
    "                popup_button.click()\n",
    "            except:\n",
    "                pass\n",
    "        time.sleep(2)"
   ]
  },
  {
   "cell_type": "code",
   "execution_count": 89,
   "metadata": {},
   "outputs": [
    {
     "ename": "KeyboardInterrupt",
     "evalue": "",
     "output_type": "error",
     "traceback": [
      "\u001b[1;31m---------------------------------------------------------------------------\u001b[0m",
      "\u001b[1;31mKeyboardInterrupt\u001b[0m                         Traceback (most recent call last)",
      "Cell \u001b[1;32mIn[89], line 2\u001b[0m\n\u001b[0;32m      1\u001b[0m time\u001b[38;5;241m.\u001b[39msleep(\u001b[38;5;241m5\u001b[39m)\n\u001b[1;32m----> 2\u001b[0m \u001b[43mdownload_data\u001b[49m\u001b[43m(\u001b[49m\u001b[43m)\u001b[49m\n",
      "Cell \u001b[1;32mIn[88], line 87\u001b[0m, in \u001b[0;36mdownload_data\u001b[1;34m(start_year_int, start_month, end_year_int, end_month, location_keyword, final_year)\u001b[0m\n\u001b[0;32m     85\u001b[0m next_page_button \u001b[38;5;241m=\u001b[39m browser\u001b[38;5;241m.\u001b[39mfind_element(By\u001b[38;5;241m.\u001b[39mCSS_SELECTOR,\u001b[38;5;124m'\u001b[39m\u001b[38;5;124mimg[alt=\u001b[39m\u001b[38;5;124m\"\u001b[39m\u001b[38;5;124m다음페이지\u001b[39m\u001b[38;5;124m\"\u001b[39m\u001b[38;5;124m]\u001b[39m\u001b[38;5;124m'\u001b[39m)\n\u001b[0;32m     86\u001b[0m next_page_button\u001b[38;5;241m.\u001b[39mclick()\n\u001b[1;32m---> 87\u001b[0m \u001b[43mtime\u001b[49m\u001b[38;5;241;43m.\u001b[39;49m\u001b[43msleep\u001b[49m\u001b[43m(\u001b[49m\u001b[38;5;241;43m5\u001b[39;49m\u001b[43m)\u001b[49m\n\u001b[0;32m     89\u001b[0m beonho_button \u001b[38;5;241m=\u001b[39m browser\u001b[38;5;241m.\u001b[39mfind_element(By\u001b[38;5;241m.\u001b[39mID,\u001b[38;5;124m'\u001b[39m\u001b[38;5;124mcheckboxAll\u001b[39m\u001b[38;5;124m'\u001b[39m)\n\u001b[0;32m     90\u001b[0m beonho_button\u001b[38;5;241m.\u001b[39mclick()\n",
      "\u001b[1;31mKeyboardInterrupt\u001b[0m: "
     ]
    }
   ],
   "source": [
    "download_data()"
   ]
  },
  {
   "cell_type": "code",
   "execution_count": 7,
   "metadata": {},
   "outputs": [],
   "source": [
    "import imageio\n",
    "\n",
    "input_file = r'C:\\Lu\\Lu4Paper\\Crawler\\MOF\\run_example.gif'\n",
    "output_file = r'C:\\Lu\\Lu4Paper\\Crawler\\MOF\\run_example1.gif'\n",
    "\n",
    "with imageio.get_reader(input_file) as reader:\n",
    "    # Get the frame rate from the metadata, or set a default value if 'fps' key is not present\n",
    "    try:\n",
    "        fps = reader.get_meta_data()['fps']\n",
    "    except KeyError:\n",
    "        fps = 5  # Default frame rate if 'fps' key is not present\n",
    "\n",
    "    writer = imageio.get_writer(output_file, fps=fps)\n",
    "\n",
    "    for frame in reader:\n",
    "        writer.append_data(frame)\n",
    "\n",
    "    writer.close()\n"
   ]
  }
 ],
 "metadata": {
  "kernelspec": {
   "display_name": "research",
   "language": "python",
   "name": "python3"
  },
  "language_info": {
   "codemirror_mode": {
    "name": "ipython",
    "version": 3
   },
   "file_extension": ".py",
   "mimetype": "text/x-python",
   "name": "python",
   "nbconvert_exporter": "python",
   "pygments_lexer": "ipython3",
   "version": "3.8.18"
  }
 },
 "nbformat": 4,
 "nbformat_minor": 2
}
