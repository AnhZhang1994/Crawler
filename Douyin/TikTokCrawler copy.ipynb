{
 "cells": [
  {
   "cell_type": "code",
   "execution_count": 1,
   "metadata": {},
   "outputs": [],
   "source": [
    "import requests\n",
    "import selenium\n",
    "from selenium import webdriver\n",
    "import pyquery\n",
    "#import tesserocr  \n",
    "from bs4 import BeautifulSoup\n",
    "import re\n",
    "import pandas as pd\n",
    "import numpy as np\n",
    "import bs4\n",
    "from selenium.webdriver.common.keys import Keys\n",
    "from selenium.webdriver import ActionChains\n",
    "from selenium import webdriver\n",
    "import time\n",
    "import wget\n",
    "import random\n",
    "import paramiko\n",
    "import os\n",
    "from selenium.webdriver.common.by import By"
   ]
  },
  {
   "cell_type": "code",
   "execution_count": 2,
   "metadata": {},
   "outputs": [
    {
     "name": "stderr",
     "output_type": "stream",
     "text": [
      "C:\\Users\\LuZhang\\AppData\\Local\\Temp\\ipykernel_4496\\1884599241.py:1: DeprecationWarning: executable_path has been deprecated, please pass in a Service object\n",
      "  driver = webdriver.Chrome(executable_path='C:/Users/LuZhang/Downloads/chromedriver_win32/chromedriver_win32 (2)/chromedriver.exe')\n"
     ]
    }
   ],
   "source": [
    "driver = webdriver.Chrome(executable_path='C:/Users/LuZhang/Downloads/chromedriver_win32/chromedriver_win32 (2)/chromedriver.exe')\n"
   ]
  },
  {
   "cell_type": "code",
   "execution_count": 3,
   "metadata": {},
   "outputs": [],
   "source": [
    "driver.get(\"https://www.douyin.com/\")"
   ]
  },
  {
   "cell_type": "code",
   "execution_count": 14,
   "metadata": {},
   "outputs": [],
   "source": [
    "#Get current page's html and download link\n",
    "def GetPage():\n",
    "    #driver.get(driver.current_url)\n",
    "    global CurrentURL\n",
    "    CurrentURL = driver.current_url\n",
    "    html = driver.page_source\n",
    "    global SoupedHtml\n",
    "    SoupedHtml=BeautifulSoup(html,features='html.parser')\n",
    "    PatternVideo = re.compile('<source class=\"\" src=\"//www..*?type=\"',re.S)\n",
    "    DF_PatternVideo_With_Redundancy = pd.DataFrame(re.findall(PatternVideo, str(SoupedHtml)))\n",
    "    #PatternVideo = re.compile('<source class=\"\" src=\"//.*?type=\"',re.S)\n",
    "    PatternVideo = re.compile('<source class=\"\" src=\"//www..*?type=\"',re.S)\n",
    "    DF_PatternVideo_With_Redundancy = pd.DataFrame(re.findall(PatternVideo, str(SoupedHtml)))\n",
    "    DF_PatternVideo_With_Redundancy\n",
    "    DF_PatternVideo = pd.DataFrame(DF_PatternVideo_With_Redundancy[0].apply(lambda x:x[24:-8]).tolist())\n",
    "    global DownloadLink\n",
    "    DownloadLink = \"http://\" + str(DF_PatternVideo.loc[0,0])\n"
   ]
  },
  {
   "cell_type": "code",
   "execution_count": 5,
   "metadata": {},
   "outputs": [],
   "source": [
    "# Next Page Button Click\n",
    "def NextPage():\n",
    "    actions = ActionChains(driver)\n",
    "    #actions.click().perform()\n",
    "    ActionChains(driver).key_down(Keys.DOWN).send_keys(\"s\").perform()\n",
    "    \n",
    "\n",
    "def PreviousPage():\n",
    "    actions = ActionChains(driver)\n",
    "    #actions.click().perform()\n",
    "    ActionChains(driver).key_down(Keys.DOWN).send_keys(\"w\").perform()\n",
    "    "
   ]
  },
  {
   "cell_type": "code",
   "execution_count": 6,
   "metadata": {},
   "outputs": [],
   "source": [
    "def GetTime():\n",
    "    global CurrentTime\n",
    "    CurrentTime = time.strftime(\"%Y%m%d_%H%M%S\", time.localtime()).replace(' ','')\n",
    "    return CurrentTime"
   ]
  },
  {
   "cell_type": "code",
   "execution_count": 7,
   "metadata": {},
   "outputs": [],
   "source": [
    "#Download the video\n",
    "def Download():\n",
    "    #CurrentTime = time.strftime(\"%Y%m%d_%H:%M:%S\", time.localtime()).replace(' ','')\n",
    "    global DownloadPath\n",
    "    DownloadPath='C:/Lu/Code/FormalCode/Video'+ str(CurrentTime) + '.mp4'\n",
    "    wget.download(DownloadLink,DownloadPath)\n",
    "    "
   ]
  },
  {
   "cell_type": "code",
   "execution_count": 8,
   "metadata": {},
   "outputs": [],
   "source": [
    "def get_metadata_by_regex(regex,a,b,c,d):\n",
    "    Pattern = re.compile(regex,re.S)\n",
    "    DF_Pattern_with_Redundancy = pd.DataFrame(re.findall(Pattern, str(SoupedHtml)))\n",
    "    DF_Pattern = DF_Pattern_with_Redundancy.loc[a,b][c:d]\n",
    "    return DF_Pattern\n"
   ]
  },
  {
   "cell_type": "code",
   "execution_count": 16,
   "metadata": {},
   "outputs": [],
   "source": [
    "# userName=get_metadata_by_regex('<span>@.*?</span>',1,0,7,-7)\n",
    "# heartNumber = get_metadata_by_regex('<div class=\"PK0tKym9 TwlaIXPW\">.*?</div>',0,0,31,-6)\n",
    "# commentNumber = get_metadata_by_regex('<div class=\"hfgGrUTS\">.*?</div>',0,0,22,-6)\n",
    "# collectNumber=get_metadata_by_regex('<div class=\"qc4FQDvn\">.*?</div>',0,0,22,-6)\n",
    "#content = driver.find_element(By.XPATH,'//*[@id=\"video-info-wrap\"]/div[1]/div[2]/div/div/span/span/span[1]/span/span/span').get_attribute('innerHTML')"
   ]
  },
  {
   "cell_type": "code",
   "execution_count": 222,
   "metadata": {},
   "outputs": [],
   "source": [
    "#make csv\n",
    "df = pd.DataFrame(columns=['Time','user_Name','heart_Number','comment_Number','collect_Number','content'])\n",
    "df.loc[0] = [CurrentTime,userName,heartNumber,commentNumber,collectNumber,content]\n",
    "df.to_csv('C:/Lu/Code/FormalCode/NewCSV/MetaDATA.csv',index=False,sep=',')"
   ]
  },
  {
   "cell_type": "code",
   "execution_count": null,
   "metadata": {},
   "outputs": [],
   "source": [
    "#Start the crawler\n",
    "while True:\n",
    "    try:\n",
    "        GetPage()\n",
    "        GetTime()\n",
    "        Download()\n",
    "\n",
    "        userName=get_metadata_by_regex('<span>@.*?</span>',1,0,7,-7)\n",
    "        heartNumber = get_metadata_by_regex('<div class=\"PK0tKym9 TwlaIXPW\">.*?</div>',0,0,31,-6)\n",
    "        commentNumber = get_metadata_by_regex('<div class=\"hfgGrUTS\">.*?</div>',0,0,22,-6)\n",
    "        collectNumber=get_metadata_by_regex('<div class=\"qc4FQDvn\">.*?</div>',0,0,22,-6)\n",
    "        content = driver.find_element(By.XPATH,'//*[@id=\"video-info-wrap\"]/div[1]/div[2]/div/div/span/span/span[1]/span/span/span').get_attribute('innerHTML')\n",
    "        \n",
    "        data_csv=pd.read_csv(r'C:\\Lu\\Code\\FormalCode\\NewCSV\\MetaDATA.csv')\n",
    "        data_csv.loc[len(data_csv)] = [CurrentTime,userName,heartNumber,commentNumber,collectNumber,content]\n",
    "        data_csv.to_csv('C:/Lu/Code/FormalCode/NewCSV/MetaDATA.csv',index=False,sep=',')\n",
    "\n",
    "        \n",
    "\n",
    "        transport = paramiko.Transport(('@@@@', @@@@))\n",
    "        transport.connect(username='@@@@', password='@@@@')\n",
    "        sftp = paramiko.SFTPClient.from_transport(transport)#如果连接需要密钥，则要加上一个参数，hostkey=\"密钥\"\n",
    "        sftp.put(DownloadPath, r\"@@@@/Info.csv{}{}\".format(CurrentTime,\".mp4\"))#将本地的Windows.txt文件上传至服务器/root/Windows.txt\n",
    "        transport.close()\n",
    "\n",
    "        os.remove(DownloadPath)\n",
    "\n",
    "        time.sleep(int(random.randint(2,55)))\n",
    "\n",
    "        NextPage()\n",
    "    \n",
    "    except:\n",
    "        print((time.strftime(\"%Y%m%d_%H\"+\".\"+\"%M\"+\".\"+\"%S\", time.localtime()).replace(' ',''))+ \"error\")\n",
    "        driver.get(driver.current_url)\n",
    "        pass\n",
    "        continue\n",
    "    "
   ]
  }
 ],
 "metadata": {
  "kernelspec": {
   "display_name": "Lu",
   "language": "python",
   "name": "python3"
  },
  "language_info": {
   "codemirror_mode": {
    "name": "ipython",
    "version": 3
   },
   "file_extension": ".py",
   "mimetype": "text/x-python",
   "name": "python",
   "nbconvert_exporter": "python",
   "pygments_lexer": "ipython3",
   "version": "3.9.12"
  },
  "orig_nbformat": 4,
  "vscode": {
   "interpreter": {
    "hash": "582049e8d931a1cb108d3de54f3949270a110ee1d46cd89118a6f62f10c4be82"
   }
  }
 },
 "nbformat": 4,
 "nbformat_minor": 2
}
